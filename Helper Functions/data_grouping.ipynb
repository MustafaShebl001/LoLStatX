{
 "cells": [
  {
   "cell_type": "code",
   "execution_count": 1,
   "metadata": {},
   "outputs": [],
   "source": [
    "import requests\n",
    "import time\n",
    "import numpy as np\n",
    "import pandas as pd"
   ]
  },
  {
   "cell_type": "code",
   "execution_count": 2,
   "metadata": {},
   "outputs": [],
   "source": [
    "# EUW_data = pd.read_csv('EUW_games.csv',index_col=False)\n",
    "# KR_data = pd.read_csv('KR_games.csv',index_col=False)\n",
    "# NA_data = pd.read_csv('NA_games.csv',index_col=False)\n",
    "other_EUW_data = pd.read_csv('games_df_EUW.csv',index_col=False)\n",
    "other_NA_data = pd.read_csv('games_df_NA.csv',index_col=False)\n",
    "other_KR_data = pd.read_csv('games_df_KR.csv',index_col=False)\n",
    "# old_data = pd.read_csv(\"Plat_games.csv\", index_col=False)"
   ]
  },
  {
   "cell_type": "code",
   "execution_count": 3,
   "metadata": {},
   "outputs": [],
   "source": [
    "# EUW_data.reset_index(drop=True, inplace=True)\n",
    "# NA_data.reset_index(drop=True, inplace=True)\n",
    "# KR_data.reset_index(drop=True, inplace=True)\n",
    "other_EUW_data.reset_index(drop=True, inplace=True)\n",
    "other_NA_data.reset_index(drop=True, inplace=True)\n",
    "other_KR_data.reset_index(drop=True, inplace=True)\n",
    "# old_data.reset_index(drop=True, inplace=True)\n"
   ]
  },
  {
   "cell_type": "code",
   "execution_count": 4,
   "metadata": {},
   "outputs": [],
   "source": [
    "\n",
    "all_data = pd.DataFrame()"
   ]
  },
  {
   "cell_type": "code",
   "execution_count": 5,
   "metadata": {},
   "outputs": [],
   "source": [
    "all_data = pd.concat([ other_EUW_data,other_KR_data, other_NA_data])"
   ]
  },
  {
   "cell_type": "code",
   "execution_count": 6,
   "metadata": {},
   "outputs": [
    {
     "data": {
      "text/plain": [
       "12231"
      ]
     },
     "execution_count": 6,
     "metadata": {},
     "output_type": "execute_result"
    }
   ],
   "source": [
    "len(all_data.drop_duplicates())"
   ]
  },
  {
   "cell_type": "code",
   "execution_count": 7,
   "metadata": {},
   "outputs": [
    {
     "data": {
      "text/plain": [
       "12231"
      ]
     },
     "execution_count": 7,
     "metadata": {},
     "output_type": "execute_result"
    }
   ],
   "source": [
    "len(all_data)"
   ]
  },
  {
   "cell_type": "code",
   "execution_count": 8,
   "metadata": {},
   "outputs": [],
   "source": [
    "all_data.to_csv('Master_games.csv',index=False)"
   ]
  },
  {
   "cell_type": "code",
   "execution_count": 10,
   "metadata": {},
   "outputs": [],
   "source": [
    "old_data = pd.read_csv('C:\\\\LOL Data\\\\all_data.csv', index_col=False)\n",
    "other_data = pd.read_csv('C:\\\\LOL Data\\\\other_diamond.csv', index_col= False)"
   ]
  },
  {
   "cell_type": "code",
   "execution_count": 11,
   "metadata": {},
   "outputs": [],
   "source": [
    "old_data.reset_index(drop=True, inplace=True)\n",
    "other_data.reset_index(drop=True, inplace=True)"
   ]
  },
  {
   "cell_type": "code",
   "execution_count": 12,
   "metadata": {},
   "outputs": [],
   "source": [
    "all_data = pd.concat([old_data, other_data])"
   ]
  },
  {
   "cell_type": "code",
   "execution_count": 13,
   "metadata": {},
   "outputs": [
    {
     "data": {
      "text/plain": [
       "84146"
      ]
     },
     "execution_count": 13,
     "metadata": {},
     "output_type": "execute_result"
    }
   ],
   "source": [
    "len(all_data)"
   ]
  },
  {
   "cell_type": "code",
   "execution_count": 14,
   "metadata": {},
   "outputs": [
    {
     "data": {
      "text/plain": [
       "81635"
      ]
     },
     "execution_count": 14,
     "metadata": {},
     "output_type": "execute_result"
    }
   ],
   "source": [
    "len(all_data.drop_duplicates())"
   ]
  },
  {
   "cell_type": "code",
   "execution_count": 15,
   "metadata": {},
   "outputs": [],
   "source": [
    "all_data.to_csv('C:\\\\LOL Data\\\\Diamond_games.csv',index=False)"
   ]
  },
  {
   "cell_type": "code",
   "execution_count": 7,
   "metadata": {},
   "outputs": [
    {
     "data": {
      "text/html": [
       "<div>\n",
       "<style scoped>\n",
       "    .dataframe tbody tr th:only-of-type {\n",
       "        vertical-align: middle;\n",
       "    }\n",
       "\n",
       "    .dataframe tbody tr th {\n",
       "        vertical-align: top;\n",
       "    }\n",
       "\n",
       "    .dataframe thead th {\n",
       "        text-align: right;\n",
       "    }\n",
       "</style>\n",
       "<table border=\"1\" class=\"dataframe\">\n",
       "  <thead>\n",
       "    <tr style=\"text-align: right;\">\n",
       "      <th></th>\n",
       "      <th>BLUE TOP</th>\n",
       "      <th>BLUE JUNGLE</th>\n",
       "      <th>BLUE MID</th>\n",
       "      <th>BLUE ADC</th>\n",
       "      <th>BLUE SUPPORT</th>\n",
       "      <th>RED TOP</th>\n",
       "      <th>RED JUNGLE</th>\n",
       "      <th>RED MID</th>\n",
       "      <th>RED ADC</th>\n",
       "      <th>RED SUPPORT</th>\n",
       "      <th>...</th>\n",
       "      <th>RED MIDDLE KDA</th>\n",
       "      <th>RED BOTTOM KDA</th>\n",
       "      <th>RED UTILITY KDA</th>\n",
       "      <th>RED FIRST BLOOD</th>\n",
       "      <th>BLUE FIRST BLOOD</th>\n",
       "      <th>RED FIRST TOWER</th>\n",
       "      <th>BLUE FIRST TOWER</th>\n",
       "      <th>TIME STAMP</th>\n",
       "      <th>BLUE WIN</th>\n",
       "      <th>MATCH ID</th>\n",
       "    </tr>\n",
       "  </thead>\n",
       "  <tbody>\n",
       "    <tr>\n",
       "      <th>0</th>\n",
       "      <td>Gnar</td>\n",
       "      <td>Graves</td>\n",
       "      <td>Vex</td>\n",
       "      <td>Corki</td>\n",
       "      <td>Senna</td>\n",
       "      <td>Aurora</td>\n",
       "      <td>Kindred</td>\n",
       "      <td>Orianna</td>\n",
       "      <td>Draven</td>\n",
       "      <td>TahmKench</td>\n",
       "      <td>...</td>\n",
       "      <td>0.00</td>\n",
       "      <td>0.50</td>\n",
       "      <td>0.33</td>\n",
       "      <td>False</td>\n",
       "      <td>True</td>\n",
       "      <td>False</td>\n",
       "      <td>True</td>\n",
       "      <td>918923</td>\n",
       "      <td>True</td>\n",
       "      <td>EUW1_7188634751</td>\n",
       "    </tr>\n",
       "    <tr>\n",
       "      <th>1</th>\n",
       "      <td>Sion</td>\n",
       "      <td>LeeSin</td>\n",
       "      <td>Ahri</td>\n",
       "      <td>Kaisa</td>\n",
       "      <td>Janna</td>\n",
       "      <td>KSante</td>\n",
       "      <td>Khazix</td>\n",
       "      <td>Syndra</td>\n",
       "      <td>Corki</td>\n",
       "      <td>Blitzcrank</td>\n",
       "      <td>...</td>\n",
       "      <td>1.00</td>\n",
       "      <td>11.00</td>\n",
       "      <td>5.50</td>\n",
       "      <td>True</td>\n",
       "      <td>False</td>\n",
       "      <td>True</td>\n",
       "      <td>False</td>\n",
       "      <td>1120370</td>\n",
       "      <td>False</td>\n",
       "      <td>EUW1_7187860850</td>\n",
       "    </tr>\n",
       "    <tr>\n",
       "      <th>2</th>\n",
       "      <td>Jax</td>\n",
       "      <td>Belveth</td>\n",
       "      <td>Akshan</td>\n",
       "      <td>Jhin</td>\n",
       "      <td>Janna</td>\n",
       "      <td>Aatrox</td>\n",
       "      <td>Graves</td>\n",
       "      <td>Katarina</td>\n",
       "      <td>Jinx</td>\n",
       "      <td>Lulu</td>\n",
       "      <td>...</td>\n",
       "      <td>0.50</td>\n",
       "      <td>0.67</td>\n",
       "      <td>3.00</td>\n",
       "      <td>False</td>\n",
       "      <td>True</td>\n",
       "      <td>False</td>\n",
       "      <td>True</td>\n",
       "      <td>953825</td>\n",
       "      <td>True</td>\n",
       "      <td>EUW1_7187789342</td>\n",
       "    </tr>\n",
       "    <tr>\n",
       "      <th>3</th>\n",
       "      <td>Mordekaiser</td>\n",
       "      <td>Graves</td>\n",
       "      <td>Ahri</td>\n",
       "      <td>MissFortune</td>\n",
       "      <td>Nautilus</td>\n",
       "      <td>Darius</td>\n",
       "      <td>Elise</td>\n",
       "      <td>Zed</td>\n",
       "      <td>Caitlyn</td>\n",
       "      <td>Lux</td>\n",
       "      <td>...</td>\n",
       "      <td>1.67</td>\n",
       "      <td>6.00</td>\n",
       "      <td>4.00</td>\n",
       "      <td>True</td>\n",
       "      <td>False</td>\n",
       "      <td>True</td>\n",
       "      <td>True</td>\n",
       "      <td>1957211</td>\n",
       "      <td>False</td>\n",
       "      <td>EUW1_7187702302</td>\n",
       "    </tr>\n",
       "    <tr>\n",
       "      <th>4</th>\n",
       "      <td>Yone</td>\n",
       "      <td>Graves</td>\n",
       "      <td>Diana</td>\n",
       "      <td>Kaisa</td>\n",
       "      <td>Lulu</td>\n",
       "      <td>Vayne</td>\n",
       "      <td>Ambessa</td>\n",
       "      <td>Sylas</td>\n",
       "      <td>Hwei</td>\n",
       "      <td>Zilean</td>\n",
       "      <td>...</td>\n",
       "      <td>2.86</td>\n",
       "      <td>1.50</td>\n",
       "      <td>2.20</td>\n",
       "      <td>False</td>\n",
       "      <td>True</td>\n",
       "      <td>True</td>\n",
       "      <td>True</td>\n",
       "      <td>2035787</td>\n",
       "      <td>True</td>\n",
       "      <td>EUW1_7187623633</td>\n",
       "    </tr>\n",
       "    <tr>\n",
       "      <th>...</th>\n",
       "      <td>...</td>\n",
       "      <td>...</td>\n",
       "      <td>...</td>\n",
       "      <td>...</td>\n",
       "      <td>...</td>\n",
       "      <td>...</td>\n",
       "      <td>...</td>\n",
       "      <td>...</td>\n",
       "      <td>...</td>\n",
       "      <td>...</td>\n",
       "      <td>...</td>\n",
       "      <td>...</td>\n",
       "      <td>...</td>\n",
       "      <td>...</td>\n",
       "      <td>...</td>\n",
       "      <td>...</td>\n",
       "      <td>...</td>\n",
       "      <td>...</td>\n",
       "      <td>...</td>\n",
       "      <td>...</td>\n",
       "      <td>...</td>\n",
       "    </tr>\n",
       "    <tr>\n",
       "      <th>79807</th>\n",
       "      <td>Renekton</td>\n",
       "      <td>Taliyah</td>\n",
       "      <td>Jayce</td>\n",
       "      <td>Swain</td>\n",
       "      <td>Seraphine</td>\n",
       "      <td>Gangplank</td>\n",
       "      <td>LeeSin</td>\n",
       "      <td>Yone</td>\n",
       "      <td>Jhin</td>\n",
       "      <td>Leblanc</td>\n",
       "      <td>...</td>\n",
       "      <td>1.00</td>\n",
       "      <td>1.20</td>\n",
       "      <td>2.57</td>\n",
       "      <td>True</td>\n",
       "      <td>False</td>\n",
       "      <td>True</td>\n",
       "      <td>True</td>\n",
       "      <td>1873478</td>\n",
       "      <td>True</td>\n",
       "      <td>KR_7364278794</td>\n",
       "    </tr>\n",
       "    <tr>\n",
       "      <th>79808</th>\n",
       "      <td>Kayle</td>\n",
       "      <td>XinZhao</td>\n",
       "      <td>Akali</td>\n",
       "      <td>Jhin</td>\n",
       "      <td>Garen</td>\n",
       "      <td>Zilean</td>\n",
       "      <td>LeeSin</td>\n",
       "      <td>Neeko</td>\n",
       "      <td>Lucian</td>\n",
       "      <td>Soraka</td>\n",
       "      <td>...</td>\n",
       "      <td>5.00</td>\n",
       "      <td>2.78</td>\n",
       "      <td>6.20</td>\n",
       "      <td>False</td>\n",
       "      <td>True</td>\n",
       "      <td>True</td>\n",
       "      <td>True</td>\n",
       "      <td>2360066</td>\n",
       "      <td>False</td>\n",
       "      <td>KR_7363219585</td>\n",
       "    </tr>\n",
       "    <tr>\n",
       "      <th>79809</th>\n",
       "      <td>Kayle</td>\n",
       "      <td>Skarner</td>\n",
       "      <td>Leblanc</td>\n",
       "      <td>Kaisa</td>\n",
       "      <td>Thresh</td>\n",
       "      <td>Ambessa</td>\n",
       "      <td>Rammus</td>\n",
       "      <td>Azir</td>\n",
       "      <td>Varus</td>\n",
       "      <td>Lux</td>\n",
       "      <td>...</td>\n",
       "      <td>6.50</td>\n",
       "      <td>2.33</td>\n",
       "      <td>2.60</td>\n",
       "      <td>False</td>\n",
       "      <td>True</td>\n",
       "      <td>True</td>\n",
       "      <td>False</td>\n",
       "      <td>1551729</td>\n",
       "      <td>False</td>\n",
       "      <td>KR_7363150700</td>\n",
       "    </tr>\n",
       "    <tr>\n",
       "      <th>79810</th>\n",
       "      <td>Sylas</td>\n",
       "      <td>Nocturne</td>\n",
       "      <td>Akali</td>\n",
       "      <td>Jhin</td>\n",
       "      <td>Leona</td>\n",
       "      <td>Jax</td>\n",
       "      <td>LeeSin</td>\n",
       "      <td>Leblanc</td>\n",
       "      <td>Ezreal</td>\n",
       "      <td>Seraphine</td>\n",
       "      <td>...</td>\n",
       "      <td>3.75</td>\n",
       "      <td>6.00</td>\n",
       "      <td>3.33</td>\n",
       "      <td>False</td>\n",
       "      <td>True</td>\n",
       "      <td>True</td>\n",
       "      <td>False</td>\n",
       "      <td>1922164</td>\n",
       "      <td>False</td>\n",
       "      <td>KR_7363063958</td>\n",
       "    </tr>\n",
       "    <tr>\n",
       "      <th>79811</th>\n",
       "      <td>Swain</td>\n",
       "      <td>Shyvana</td>\n",
       "      <td>Zac</td>\n",
       "      <td>Caitlyn</td>\n",
       "      <td>Leona</td>\n",
       "      <td>Chogath</td>\n",
       "      <td>Skarner</td>\n",
       "      <td>Yasuo</td>\n",
       "      <td>Ashe</td>\n",
       "      <td>Alistar</td>\n",
       "      <td>...</td>\n",
       "      <td>3.83</td>\n",
       "      <td>3.25</td>\n",
       "      <td>3.25</td>\n",
       "      <td>False</td>\n",
       "      <td>True</td>\n",
       "      <td>True</td>\n",
       "      <td>True</td>\n",
       "      <td>1540146</td>\n",
       "      <td>False</td>\n",
       "      <td>KR_7363000800</td>\n",
       "    </tr>\n",
       "  </tbody>\n",
       "</table>\n",
       "<p>79812 rows × 83 columns</p>\n",
       "</div>"
      ],
      "text/plain": [
       "          BLUE TOP BLUE JUNGLE BLUE MID     BLUE ADC BLUE SUPPORT    RED TOP  \\\n",
       "0             Gnar      Graves      Vex        Corki        Senna     Aurora   \n",
       "1             Sion      LeeSin     Ahri        Kaisa        Janna     KSante   \n",
       "2              Jax     Belveth   Akshan         Jhin        Janna     Aatrox   \n",
       "3      Mordekaiser      Graves     Ahri  MissFortune     Nautilus     Darius   \n",
       "4             Yone      Graves    Diana        Kaisa         Lulu      Vayne   \n",
       "...            ...         ...      ...          ...          ...        ...   \n",
       "79807     Renekton     Taliyah    Jayce        Swain    Seraphine  Gangplank   \n",
       "79808        Kayle     XinZhao    Akali         Jhin        Garen     Zilean   \n",
       "79809        Kayle     Skarner  Leblanc        Kaisa       Thresh    Ambessa   \n",
       "79810        Sylas    Nocturne    Akali         Jhin        Leona        Jax   \n",
       "79811        Swain     Shyvana      Zac      Caitlyn        Leona    Chogath   \n",
       "\n",
       "      RED JUNGLE   RED MID  RED ADC RED SUPPORT  ...  RED MIDDLE KDA  \\\n",
       "0        Kindred   Orianna   Draven   TahmKench  ...            0.00   \n",
       "1         Khazix    Syndra    Corki  Blitzcrank  ...            1.00   \n",
       "2         Graves  Katarina     Jinx        Lulu  ...            0.50   \n",
       "3          Elise       Zed  Caitlyn         Lux  ...            1.67   \n",
       "4        Ambessa     Sylas     Hwei      Zilean  ...            2.86   \n",
       "...          ...       ...      ...         ...  ...             ...   \n",
       "79807     LeeSin      Yone     Jhin     Leblanc  ...            1.00   \n",
       "79808     LeeSin     Neeko   Lucian      Soraka  ...            5.00   \n",
       "79809     Rammus      Azir    Varus         Lux  ...            6.50   \n",
       "79810     LeeSin   Leblanc   Ezreal   Seraphine  ...            3.75   \n",
       "79811    Skarner     Yasuo     Ashe     Alistar  ...            3.83   \n",
       "\n",
       "       RED BOTTOM KDA  RED UTILITY KDA  RED FIRST BLOOD  BLUE FIRST BLOOD  \\\n",
       "0                0.50             0.33            False              True   \n",
       "1               11.00             5.50             True             False   \n",
       "2                0.67             3.00            False              True   \n",
       "3                6.00             4.00             True             False   \n",
       "4                1.50             2.20            False              True   \n",
       "...               ...              ...              ...               ...   \n",
       "79807            1.20             2.57             True             False   \n",
       "79808            2.78             6.20            False              True   \n",
       "79809            2.33             2.60            False              True   \n",
       "79810            6.00             3.33            False              True   \n",
       "79811            3.25             3.25            False              True   \n",
       "\n",
       "       RED FIRST TOWER  BLUE FIRST TOWER  TIME STAMP  BLUE WIN  \\\n",
       "0                False              True      918923      True   \n",
       "1                 True             False     1120370     False   \n",
       "2                False              True      953825      True   \n",
       "3                 True              True     1957211     False   \n",
       "4                 True              True     2035787      True   \n",
       "...                ...               ...         ...       ...   \n",
       "79807             True              True     1873478      True   \n",
       "79808             True              True     2360066     False   \n",
       "79809             True             False     1551729     False   \n",
       "79810             True             False     1922164     False   \n",
       "79811             True              True     1540146     False   \n",
       "\n",
       "              MATCH ID  \n",
       "0      EUW1_7188634751  \n",
       "1      EUW1_7187860850  \n",
       "2      EUW1_7187789342  \n",
       "3      EUW1_7187702302  \n",
       "4      EUW1_7187623633  \n",
       "...                ...  \n",
       "79807    KR_7364278794  \n",
       "79808    KR_7363219585  \n",
       "79809    KR_7363150700  \n",
       "79810    KR_7363063958  \n",
       "79811    KR_7363000800  \n",
       "\n",
       "[79812 rows x 83 columns]"
      ]
     },
     "execution_count": 7,
     "metadata": {},
     "output_type": "execute_result"
    }
   ],
   "source": [
    "df1 = pd.read_csv('C:\\\\LOL Data\\\\all_data.csv', index_col=False)\n",
    "df1"
   ]
  },
  {
   "cell_type": "code",
   "execution_count": 9,
   "metadata": {},
   "outputs": [],
   "source": [
    "new_matches_id = all_data['MATCH ID'].to_list()"
   ]
  },
  {
   "cell_type": "code",
   "execution_count": 10,
   "metadata": {},
   "outputs": [
    {
     "data": {
      "text/plain": [
       "12231"
      ]
     },
     "execution_count": 10,
     "metadata": {},
     "output_type": "execute_result"
    }
   ],
   "source": [
    "len(new_matches_id)"
   ]
  },
  {
   "cell_type": "code",
   "execution_count": 11,
   "metadata": {},
   "outputs": [],
   "source": [
    "file_path = \"master_matches_id.txt\"\n",
    "\n",
    "# Open the file in write mode and save the list\n",
    "with open(file_path, \"w\") as file:\n",
    "    for number in new_matches_id:\n",
    "        file.write(f\"{number}\\n\")"
   ]
  },
  {
   "cell_type": "code",
   "execution_count": null,
   "metadata": {},
   "outputs": [],
   "source": []
  }
 ],
 "metadata": {
  "kernelspec": {
   "display_name": "Python 3",
   "language": "python",
   "name": "python3"
  },
  "language_info": {
   "codemirror_mode": {
    "name": "ipython",
    "version": 3
   },
   "file_extension": ".py",
   "mimetype": "text/x-python",
   "name": "python",
   "nbconvert_exporter": "python",
   "pygments_lexer": "ipython3",
   "version": "3.12.8"
  }
 },
 "nbformat": 4,
 "nbformat_minor": 4
}
