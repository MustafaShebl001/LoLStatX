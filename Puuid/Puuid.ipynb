{
 "cells": [
  {
   "cell_type": "code",
   "execution_count": 1,
   "metadata": {},
   "outputs": [],
   "source": [
    "import numpy as np\n",
    "import pandas as pd\n",
    "import requests\n",
    "import sys\n",
    "import os"
   ]
  },
  {
   "cell_type": "code",
   "execution_count": 2,
   "metadata": {},
   "outputs": [],
   "source": [
    "sys.path.append(os.path.abspath('../Helper Functions'))\n",
    "from ExtractPuuid import *"
   ]
  },
  {
   "cell_type": "code",
   "execution_count": 10,
   "metadata": {},
   "outputs": [
    {
     "data": {
      "text/plain": [
       "'\\ndef get_summoner_id(region, tier, division, dev_key, Pno): is used with any rank and ties except high elo (i.e CHALLENGERE, GRANDMASTER, MASTER)\\ndef get_challenger(region, dev_key): used with CHALLENGER\\ndef get_grand_master(region, dev_key): used with GRANDMASTER\\ndef get_master(region, dev_key): used with MASTER\\n'"
      ]
     },
     "execution_count": 10,
     "metadata": {},
     "output_type": "execute_result"
    }
   ],
   "source": [
    "'''\n",
    "def get_summoner_id(region, tier, division, dev_key, Pno): is used with any rank and ties except high elo (i.e CHALLENGERE, GRANDMASTER, MASTER)\n",
    "def get_challenger(region, dev_key): used with CHALLENGER\n",
    "def get_grand_master(region, dev_key): used with GRANDMASTER\n",
    "def get_master(region, dev_key): used with MASTER\n",
    "'''"
   ]
  },
  {
   "cell_type": "code",
   "execution_count": 3,
   "metadata": {},
   "outputs": [],
   "source": [
    "region = 'euw1'      # can be euw1, na1 or kr\n",
    "tier = 'DIAMOND'    # Change to the desired tier \n",
    "division = 'I'      # Change to the desired division\n",
    "Pno = 3         # Change to the desired number of pages to consider (page conatins 205 enteries)\n",
    "dev_key = ''  # Riot Dev key"
   ]
  },
  {
   "cell_type": "code",
   "execution_count": 4,
   "metadata": {},
   "outputs": [],
   "source": [
    "summoner_id_list = get_summoner_id(region, tier, division, dev_key, 1)   # getting 4 pages of Diamond I games out of 25 pages"
   ]
  },
  {
   "cell_type": "code",
   "execution_count": 5,
   "metadata": {},
   "outputs": [
    {
     "data": {
      "text/plain": [
       "300"
      ]
     },
     "execution_count": 5,
     "metadata": {},
     "output_type": "execute_result"
    }
   ],
   "source": [
    "len(summoner_id_list)"
   ]
  },
  {
   "cell_type": "code",
   "execution_count": 6,
   "metadata": {},
   "outputs": [
    {
     "name": "stdout",
     "output_type": "stream",
     "text": [
      "429\n",
      "429\n",
      "429\n"
     ]
    }
   ],
   "source": [
    "dic = get_puuid(summoner_id_list, dev_key)"
   ]
  },
  {
   "cell_type": "code",
   "execution_count": 7,
   "metadata": {},
   "outputs": [
    {
     "data": {
      "text/plain": [
       "300"
      ]
     },
     "execution_count": 7,
     "metadata": {},
     "output_type": "execute_result"
    }
   ],
   "source": [
    "Puuid = pd.DataFrame(dic)   # Convert dic to DataFrame\n",
    "len(Puuid)"
   ]
  },
  {
   "cell_type": "code",
   "execution_count": 8,
   "metadata": {},
   "outputs": [],
   "source": [
    "Puuid.to_csv(\"EUW CHALLENGER.csv\", index=False) # Save as csv file, so game_data.ipynb can read it "
   ]
  },
  {
   "cell_type": "code",
   "execution_count": null,
   "metadata": {},
   "outputs": [],
   "source": []
  }
 ],
 "metadata": {
  "kernelspec": {
   "display_name": "Python 3",
   "language": "python",
   "name": "python3"
  },
  "language_info": {
   "codemirror_mode": {
    "name": "ipython",
    "version": 3
   },
   "file_extension": ".py",
   "mimetype": "text/x-python",
   "name": "python",
   "nbconvert_exporter": "python",
   "pygments_lexer": "ipython3",
   "version": "3.12.8"
  }
 },
 "nbformat": 4,
 "nbformat_minor": 2
}
