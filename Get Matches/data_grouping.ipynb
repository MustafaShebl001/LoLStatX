{
 "cells": [
  {
   "cell_type": "code",
   "execution_count": 2,
   "metadata": {},
   "outputs": [],
   "source": [
    "import requests\n",
    "import time\n",
    "import numpy as np\n",
    "import pandas as pd\n",
    "import os\n",
    "import sys"
   ]
  },
  {
   "cell_type": "code",
   "execution_count": 9,
   "metadata": {},
   "outputs": [],
   "source": [
    "parent_dir = os.path.abspath(os.path.join(os.getcwd(), '..'))\n",
    "main_file_path = os.path.join(parent_dir, 'Game Info\\\\')"
   ]
  },
  {
   "cell_type": "code",
   "execution_count": null,
   "metadata": {},
   "outputs": [],
   "source": [
    "'''\n",
    "Here we concat all the files we have to form one file per tier/division\n",
    "'''"
   ]
  },
  {
   "cell_type": "code",
   "execution_count": null,
   "metadata": {},
   "outputs": [],
   "source": [
    "# EUW_data = pd.read_csv(main_file_path + 'EUW_games.csv',index_col=False)\n",
    "# KR_data = pd.read_csv(main_file_path +'KR_games.csv',index_col=False)\n",
    "# NA_data = pd.read_csv(main_file_path +'NA_games.csv',index_col=False)\n",
    "# other_EUW_data = pd.read_csv(main_file_path +'games_df_EUW.csv',index_col=False)\n",
    "# other_NA_data = pd.read_csv(main_file_path +'games_df_NA.csv',index_col=False)\n",
    "# other_KR_data = pd.read_csv(main_file_path +'games_df_KR.csv',index_col=False)\n"
   ]
  },
  {
   "cell_type": "code",
   "execution_count": 3,
   "metadata": {},
   "outputs": [],
   "source": [
    "# EUW_data.reset_index(drop=True, inplace=True)\n",
    "# NA_data.reset_index(drop=True, inplace=True)\n",
    "# KR_data.reset_index(drop=True, inplace=True)\n",
    "# other_EUW_data.reset_index(drop=True, inplace=True)\n",
    "# other_NA_data.reset_index(drop=True, inplace=True)\n",
    "# other_KR_data.reset_index(drop=True, inplace=True)\n"
   ]
  },
  {
   "cell_type": "code",
   "execution_count": 4,
   "metadata": {},
   "outputs": [],
   "source": [
    "all_data = pd.DataFrame()"
   ]
  },
  {
   "cell_type": "code",
   "execution_count": 5,
   "metadata": {},
   "outputs": [],
   "source": [
    "all_data = pd.concat([ EUW_data, NA_data, KR_data,other_EUW_data,other_KR_data, other_NA_data])"
   ]
  },
  {
   "cell_type": "code",
   "execution_count": 7,
   "metadata": {},
   "outputs": [
    {
     "data": {
      "text/plain": [
       "12231"
      ]
     },
     "execution_count": 7,
     "metadata": {},
     "output_type": "execute_result"
    }
   ],
   "source": [
    "len(all_data)"
   ]
  },
  {
   "cell_type": "code",
   "execution_count": 8,
   "metadata": {},
   "outputs": [],
   "source": [
    "all_data.to_csv('Master_games.csv',index=False)     # Save the whole data csv file"
   ]
  },
  {
   "cell_type": "code",
   "execution_count": 9,
   "metadata": {},
   "outputs": [],
   "source": [
    "new_matches_id = all_data['MATCH ID'].to_list()     # Extract the matches_id for these games"
   ]
  },
  {
   "cell_type": "code",
   "execution_count": 11,
   "metadata": {},
   "outputs": [],
   "source": [
    "file_path = \".txt\"      # Name of the matches_id txt file\n",
    "\n",
    "# Open the file in write mode and save the list\n",
    "with open(file_path, \"w\") as file:\n",
    "    for number in new_matches_id:\n",
    "        file.write(f\"{number}\\n\")"
   ]
  },
  {
   "cell_type": "code",
   "execution_count": null,
   "metadata": {},
   "outputs": [],
   "source": []
  }
 ],
 "metadata": {
  "kernelspec": {
   "display_name": "Python 3",
   "language": "python",
   "name": "python3"
  },
  "language_info": {
   "codemirror_mode": {
    "name": "ipython",
    "version": 3
   },
   "file_extension": ".py",
   "mimetype": "text/x-python",
   "name": "python",
   "nbconvert_exporter": "python",
   "pygments_lexer": "ipython3",
   "version": "3.12.8"
  }
 },
 "nbformat": 4,
 "nbformat_minor": 4
}
